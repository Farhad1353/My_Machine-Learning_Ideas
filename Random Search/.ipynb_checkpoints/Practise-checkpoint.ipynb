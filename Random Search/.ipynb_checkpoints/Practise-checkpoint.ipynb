{
 "cells": [
  {
   "cell_type": "code",
   "execution_count": 152,
   "metadata": {},
   "outputs": [
    {
     "name": "stdout",
     "output_type": "stream",
     "text": [
      " These are the initial weight and bias prior to the random search : W:0.2941, B: 0.2941 \n",
      "\n"
     ]
    },
    {
     "data": {
      "image/png": "[encoded data removed]",
      "text/plain": [
       "<Figure size 432x288 with 1 Axes>"
      ]
     },
     "metadata": {
      "needs_background": "light"
     },
     "output_type": "display_data"
    },
    {
     "name": "stdout",
     "output_type": "stream",
     "text": [
      "Initial Cost :310.91 \n",
      "\n",
      "Lowest cost of [12.48836268] achieved with weights of 2.6678,-2.9805 and bias of -0.6864\n"
     ]
    },
    {
     "data": {
      "image/png": "[encoded data removed]",
      "text/plain": [
       "<Figure size 432x288 with 1 Axes>"
      ]
     },
     "metadata": {
      "needs_background": "light"
     },
     "output_type": "display_data"
    }
   ],
   "source": [
    "import numpy as np \n",
    "np.set_printoptions(suppress=True) # dont print every number in scientific form\n",
    "import matplotlib.pyplot as plt\n",
    "import sys\n",
    "sys.path.append('..') # add utils location to path\n",
    "from utils import get_regression_data # function to create dummy data for regression\n",
    "\n",
    "n_examples = 20\n",
    "X =  np.random.uniform(-5,5,(n_examples,1))\n",
    "Y =  2.5*np.power(X,2) - (3.4*X) + 3.5\n",
    "\n",
    "\n",
    "class LinearHypothesis:\n",
    "    def __init__(self): # initalize parameters \n",
    "        self.w1 = np.random.randn()\n",
    "        self.w2 = np.random.randn()## randomly initialise weight\n",
    "        self.b = np.random.randn() ## randomly initialise bias\n",
    "        \n",
    "    def __call__(self, X): # how do we calculate output from an input in our model? \n",
    "        y_hat = self.w1*np.power(X,2) + self.w2*X + self.b ## make a prediction using a hypothesis\n",
    "        return y_hat # return prediction\n",
    "    \n",
    "    def update_params(self, new_w1, new_w2, new_b):\n",
    "        self.w1 = new_w1 ## set this instance's weights to the new weight value passed to the function\n",
    "        self.w2 = new_w2\n",
    "        self.b = new_b ## do the same for the bias\n",
    "\n",
    "\n",
    "H = LinearHypothesis() # instantiate our model\n",
    "\n",
    "y_hat = H(X) # make prediction\n",
    "\n",
    "print(' These are the initial weight and bias prior to the random search : W:{:.4f}, B: {:.4f} \\n'.format(H.b, H.b))\n",
    "\n",
    "\n",
    "def plot_h_vs_y(X, y_hat, Y):\n",
    "    #print(X.shape,y_hat.shape,Y.shape)\n",
    "    plt.figure()\n",
    "    plt.scatter(X, Y, c='r', label='Label')\n",
    "    plt.scatter(X, y_hat, c='b', label='Hypothesis', marker='x')\n",
    "    plt.legend()\n",
    "    plt.xlabel('X')\n",
    "    plt.ylabel('Y')\n",
    "    plt.show()\n",
    "    \n",
    "plot_h_vs_y(X, y_hat, Y)\n",
    "\n",
    "def L(y_hat, labels): # define our criterion (loss function)\n",
    "    #print(y_hat.shape,labels.shape)\n",
    "    errors = y_hat - labels ## calculate errors\n",
    "    squared_errors = errors ** 2 ## square errors\n",
    "    mean_squared_error = sum(squared_errors) / len(squared_errors) ## calculate mean \n",
    "    return mean_squared_error # return loss\n",
    "\n",
    "cost = L(y_hat, Y)\n",
    "\n",
    "print(\"Initial Cost :{:.2f} \\n\".format(cost[0]))\n",
    "\n",
    "def random_search(n_samples, limit=20):\n",
    "    \"\"\"Try out n_samples of random parameter pairs and return the best ones\"\"\"\n",
    "    best_weights = None ## no best weight found yet\n",
    "    best_bias = None ## no best bias found yet\n",
    "    lowest_cost = float('inf') ## initialize it very high (how high can it be?)\n",
    "    for i in range(0, n_samples): ## try this many different parameterisations\n",
    "        w1 = np.random.uniform(-limit, limit) ## randomly sample a weight within the limits of the search\n",
    "        w2 = np.random.uniform(-limit, limit)\n",
    "        b = np.random.uniform(-limit, limit) ## randomly sample a bias within the limits of the search\n",
    "        # print(w, b)\n",
    "        H.update_params(w1, w2, b) ## update our model with these random parameters\n",
    "        y_hat = H(X) ## make prediction\n",
    "        cost = L(y_hat, Y) ## calculate loss\n",
    "        if cost < lowest_cost: ## if this is the best parameterisation so far\n",
    "            lowest_cost = cost ## update the lowest running cost to the cost for this parameterisation\n",
    "            best_weights1 = w1 ## get best weights so far from the model\n",
    "            best_weights2 = w2\n",
    "            best_bias = b ## get best bias so far from the model\n",
    "    print('Lowest cost of {} achieved with weights of {:.4f},{:.4f} and bias of {:.4f}'.format(lowest_cost,best_weights1, best_weights2,best_bias))\n",
    "    return best_weights1,best_weights2, best_bias ## return the best weight and best bias\n",
    "\n",
    "best_weights1, best_weights2, best_bias = random_search(10000) # do 10000 samples in a random search \n",
    "H.update_params(best_weights1, best_weights2, best_bias) # make sure to set our model's weights to the best values we found\n",
    "plot_h_vs_y(X, H(X), Y) # plot model predictions agains labels\n",
    "\n"
   ]
  },
  {
   "cell_type": "markdown",
   "metadata": {},
   "source": [
    "## "
   ]
  }
 ],
 "metadata": {
  "kernelspec": {
   "display_name": "Python 3",
   "language": "python",
   "name": "python3"
  },
  "language_info": {
   "codemirror_mode": {
    "name": "ipython",
    "version": 3
   },
   "file_extension": ".py",
   "mimetype": "text/x-python",
   "name": "python",
   "nbconvert_exporter": "python",
   "pygments_lexer": "ipython3",
   "version": "3.8.5"
  }
 },
 "nbformat": 4,
 "nbformat_minor": 4
}
