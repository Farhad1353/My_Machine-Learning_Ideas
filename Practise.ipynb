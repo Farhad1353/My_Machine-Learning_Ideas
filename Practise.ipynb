{
 "cells": [
  {
   "cell_type": "code",
   "execution_count": 67,
   "metadata": {},
   "outputs": [
    {
     "name": "stdout",
     "output_type": "stream",
     "text": [
      "nan\n",
      "[nan nan nan nan nan nan nan nan nan nan nan nan]\n",
      "[-0.92153848  0.17399976 -0.58120922  0.28382805 -0.81726648 -1.52333665\n",
      "  2.19841305 -0.82278166  1.17816565  0.41225866  0.46123727]\n",
      "nan is an important feature\n",
      "nan is an important feature\n",
      "nan is an important feature\n"
     ]
    }
   ],
   "source": [
    "import pandas as pd\n",
    "import numpy as np\n",
    "import matplotlib.pyplot as plt\n",
    "from numpy.polynomial import Polynomial\n",
    "\n",
    "data = np.genfromtxt('winequality-red-real.csv', delimiter=\";\")\n",
    "print(data[0,0])\n",
    "Fdata = data[0,:] # remove NaNs\n",
    "print(Fdata)\n",
    "data=data[1:]\n",
    "X = data[:, :-1] # get all of the rows and all but the last column (the last column is the labels)\n",
    "\n",
    "Y = data[:, -1] # get the last column as the labels\n",
    "\n",
    "\n",
    "m = 1599# how many examples do we want?\n",
    "order = 11\n",
    "coeffs = np.random.randn(order + 1)\n",
    "\n",
    "class MultiVariableLinearHypothesis:\n",
    "    def __init__(self, n_features, regularisation_factor): ## add regularisation factor as parameter\n",
    "        self.n_features = n_features\n",
    "        self.regularisation_factor = regularisation_factor ## add self.regularisation factor\n",
    "        self.b = np.random.randn()\n",
    "        self.w = np.random.randn(n_features)\n",
    "        \n",
    "    def __call__(self, X): # what happens when we call our model, input is of shape (n_examples, n_features)\n",
    "        y_hat = np.matmul(X, self.w) + self.b # make prediction, now using vector of weights rather than a single value\n",
    "        return y_hat # output is of shape (n_examples, 1)\n",
    "    \n",
    "    def update_params(self, new_w, new_b):\n",
    "        self.w = new_w\n",
    "        self.b = new_b\n",
    "        \n",
    "    def calc_deriv(self, X, y_hat, labels):\n",
    "        diffs = y_hat-labels\n",
    "        dLdw = 2 * np.array([np.sum(diffs * X[:, i]) / m for i in range(self.n_features)]) \n",
    "        dLdw += 2 * self.regularisation_factor * self.w ## add regularisation term gradient\n",
    "        dLdb = 2 * np.sum(diffs) / m\n",
    "        return dLdw, dLdb\n",
    "\n",
    "def create_polynomial_inputs(X, order=3):\n",
    "    new_dataset = np.array([np.power(X, i) for i in range(1, order + 1)]).T\n",
    "    return new_dataset # new_dataset should be shape [m, order]\n",
    "\n",
    "def train(num_epochs, X, Y, H):\n",
    "    for e in range(num_epochs): # for this many complete runs through the dataset\n",
    "        y_hat = H(X) # make predictions\n",
    "        dLdw, dLdb = H.calc_deriv(X, y_hat, Y) # calculate gradient of current loss with respect to model parameters\n",
    "        new_w = H.w - learning_rate * dLdw # compute new model weight using gradient descent update rule\n",
    "        new_b = H.b - learning_rate * dLdb # compute new model bias using gradient descent update rule\n",
    "        H.update_params(new_w, new_b) # update model weight and bias\n",
    "\n",
    "def standardize_data(dataset):\n",
    "    mean, std = np.mean(dataset, axis=0), np.std(dataset, axis=0) ## get mean and standard deviation of dataset\n",
    "    standardized_dataset  = (dataset-mean)/std\n",
    "    return standardized_dataset\n",
    "\n",
    "num_epochs = 500\n",
    "learning_rate = 0.0001\n",
    "regularisation_factor =0.0001\n",
    "highest_order_power = 11\n",
    "XS= standardize_data(X)\n",
    "\n",
    "H = MultiVariableLinearHypothesis(n_features=highest_order_power, regularisation_factor=regularisation_factor)\n",
    "train(num_epochs, XS, Y, H)\n",
    "print(H.w)\n",
    "\n",
    "for i in range(len(Fdata)-1):\n",
    "    if np.abs(H.w[i])>1:\n",
    "        print(\"{} is an important feature\".format(Fdata[i]))\n",
    "    \n"
   ]
  },
  {
   "cell_type": "code",
   "execution_count": null,
   "metadata": {},
   "outputs": [],
   "source": []
  }
 ],
 "metadata": {
  "kernelspec": {
   "display_name": "Python 3",
   "language": "python",
   "name": "python3"
  },
  "language_info": {
   "codemirror_mode": {
    "name": "ipython",
    "version": 3
   },
   "file_extension": ".py",
   "mimetype": "text/x-python",
   "name": "python",
   "nbconvert_exporter": "python",
   "pygments_lexer": "ipython3",
   "version": "3.8.5"
  }
 },
 "nbformat": 4,
 "nbformat_minor": 4
}
